{
 "cells": [
  {
   "cell_type": "code",
   "execution_count": 3,
   "id": "053c701d-b7b1-4a3f-af12-8ce34dbf47e9",
   "metadata": {},
   "outputs": [
    {
     "name": "stdout",
     "output_type": "stream",
     "text": [
      "['.ipynb_checkpoints', 'Simra_Beinaheunfaelle_Konstanz_UTF8.csv', 'Simra_Beinaheunfaelle_Konstanz_UTF8_fixed.csv', 'Simra_Beinaheunfaelle_Konstanz_UTF8_fixed_2.csv', 'unfaelle_beinahe_cleaing_DF.ipynb']\n"
     ]
    }
   ],
   "source": [
    "import pandas as pd\n",
    "import numpy as np\n",
    "import matplotlib.pyplot as plt\n",
    "import geopandas as gpd\n",
    "import os\n",
    "from colour import Color\n",
    "files = sorted(os.listdir())\n",
    "print(files)"
   ]
  },
  {
   "cell_type": "code",
   "execution_count": 4,
   "id": "806e5d63-1e1f-4a03-8dfd-e761953862a5",
   "metadata": {},
   "outputs": [
    {
     "name": "stdout",
     "output_type": "stream",
     "text": [
      "(214, 23)\n"
     ]
    }
   ],
   "source": [
    "df = pd.read_csv(\"Simra_Beinaheunfaelle_Konstanz_UTF8.csv\", sep = \";\")\n",
    "print(df.shape) "
   ]
  },
  {
   "cell_type": "code",
   "execution_count": 5,
   "id": "dfdf9b63-8c12-4fd1-bf94-20a6afd87541",
   "metadata": {},
   "outputs": [],
   "source": [
    "#print(df.head())\n",
    "df[\"lon_fix\"] = df[\"lon\"]\n",
    "df[\"lat_fix\"] = df[\"lat\"]"
   ]
  },
  {
   "cell_type": "code",
   "execution_count": 6,
   "id": "004da464-3275-44fc-9e7c-b5037aea20ce",
   "metadata": {},
   "outputs": [
    {
     "name": "stderr",
     "output_type": "stream",
     "text": [
      "/tmp/ipykernel_40538/2685761111.py:1: FutureWarning: The default value of regex will change from True to False in a future version. In addition, single character regular expressions will *not* be treated as literal strings when regex=True.\n",
      "  df[\"lon_fix\"] = df[\"lon_fix\"].str.replace('.', \"\")\n",
      "/tmp/ipykernel_40538/2685761111.py:2: FutureWarning: The default value of regex will change from True to False in a future version. In addition, single character regular expressions will *not* be treated as literal strings when regex=True.\n",
      "  df[\"lat_fix\"] = df[\"lat_fix\"].str.replace('.', \"\")\n"
     ]
    }
   ],
   "source": [
    "df[\"lon_fix\"] = df[\"lon_fix\"].str.replace('.', \"\")\n",
    "df[\"lat_fix\"] = df[\"lat_fix\"].str.replace('.', \"\") "
   ]
  },
  {
   "cell_type": "code",
   "execution_count": 7,
   "id": "04b23f2f-7188-496c-bac8-3eb99fe3f02d",
   "metadata": {},
   "outputs": [
    {
     "name": "stdout",
     "output_type": "stream",
     "text": [
      "0    920261957647096\n",
      "1            9061638\n",
      "2            9057031\n",
      "3            9039842\n",
      "4            9028393\n",
      "Name: lon_fix, dtype: object\n"
     ]
    }
   ],
   "source": [
    "print(df[\"lon_fix\"].head())"
   ]
  },
  {
   "cell_type": "code",
   "execution_count": 8,
   "id": "eea22878-2440-4959-a341-ae33dde5d920",
   "metadata": {},
   "outputs": [
    {
     "name": "stderr",
     "output_type": "stream",
     "text": [
      "/tmp/ipykernel_40538/1310277850.py:4: SettingWithCopyWarning: \n",
      "A value is trying to be set on a copy of a slice from a DataFrame\n",
      "\n",
      "See the caveats in the documentation: https://pandas.pydata.org/pandas-docs/stable/user_guide/indexing.html#returning-a-view-versus-a-copy\n",
      "  df[\"lon_fix\"][i] = df[\"lon_fix\"][i][:6]\n",
      "/tmp/ipykernel_40538/1310277850.py:11: SettingWithCopyWarning: \n",
      "A value is trying to be set on a copy of a slice from a DataFrame\n",
      "\n",
      "See the caveats in the documentation: https://pandas.pydata.org/pandas-docs/stable/user_guide/indexing.html#returning-a-view-versus-a-copy\n",
      "  df[\"lat_fix\"][j] = df[\"lat_fix\"][j][:7]\n"
     ]
    }
   ],
   "source": [
    "i = 0\n",
    "while i < len(df[\"lon_fix\"]):\n",
    "    if len(df[\"lon_fix\"][i]) > 6:\n",
    "        df[\"lon_fix\"][i] = df[\"lon_fix\"][i][:6]\n",
    "        i+=1\n",
    "    else:\n",
    "        i+=1\n",
    "j = 0\n",
    "while j < len(df[\"lat_fix\"]):\n",
    "    if len(df[\"lat_fix\"][j]) >7:\n",
    "        df[\"lat_fix\"][j] = df[\"lat_fix\"][j][:7]\n",
    "        j+=1\n",
    "    else:\n",
    "        j+=1"
   ]
  },
  {
   "cell_type": "code",
   "execution_count": 9,
   "id": "5702079a-feec-4d0e-a943-9b0515e38990",
   "metadata": {},
   "outputs": [],
   "source": [
    "df[\"lon_fix\"] = df[\"lon_fix\"].astype(float)\n",
    "df[\"lat_fix\"] = df[\"lat_fix\"].astype(float)"
   ]
  },
  {
   "cell_type": "code",
   "execution_count": 10,
   "id": "47bc2193-f48b-43d1-b22a-5d0b7b90fa19",
   "metadata": {},
   "outputs": [],
   "source": [
    "df[\"lon_fix\"] = df[\"lon_fix\"]/1e5\n",
    "df[\"lat_fix\"] = df[\"lat_fix\"]/1e5"
   ]
  },
  {
   "cell_type": "code",
   "execution_count": 13,
   "id": "2d0d08b8-b17b-41de-8f71-929b36f1de45",
   "metadata": {},
   "outputs": [
    {
     "data": {
      "text/plain": [
       "count    214.000000\n",
       "mean       9.144082\n",
       "std        0.071727\n",
       "min        8.779300\n",
       "25%        9.150883\n",
       "50%        9.164985\n",
       "75%        9.180892\n",
       "max        9.209870\n",
       "Name: lon_fix, dtype: float64"
      ]
     },
     "execution_count": 13,
     "metadata": {},
     "output_type": "execute_result"
    }
   ],
   "source": [
    "#df.to_csv(\"lat_long_fixed.csv\")\n",
    "df[\"lon_fix\"].describe()"
   ]
  },
  {
   "cell_type": "code",
   "execution_count": 238,
   "id": "68192782-6376-41d5-b7b9-ce0b1e21c001",
   "metadata": {},
   "outputs": [
    {
     "name": "stdout",
     "output_type": "stream",
     "text": [
      "            lat        lon           ts  bike  childCheckBox  trailerCheckBox  \\\n",
      "209  47.672.362  9.161.217  1,66039E+12   2.0              0                0   \n",
      "210  47.678.559  9.153.223   1,6643E+12   2.0              0                0   \n",
      "211  47.677.776  9.155.665   1,6643E+12   2.0              0                0   \n",
      "212  47.673.620  9.168.812   1,6643E+12   2.0              0                0   \n",
      "213  47.674.382  9.170.905   1,6643E+12   2.0              0                0   \n",
      "\n",
      "     pLoc  incident  i1  i2  ...  i9  scary  desc  i10    region  Unnamed: 21  \\\n",
      "209   0.0         3   0   0  ...   0      0   NaN    0  Konstanz          NaN   \n",
      "210   0.0         1   0   0  ...   0      0   NaN    0  Konstanz          NaN   \n",
      "211   0.0         1   0   0  ...   0      0   NaN    0  Konstanz          NaN   \n",
      "212   0.0         5   0   0  ...   0      0   NaN    0  Konstanz          NaN   \n",
      "213   0.0         1   0   0  ...   0      0   NaN    0  Konstanz          NaN   \n",
      "\n",
      "     Unnamed: 22  lon_fix   lat_fix                  geometry  \n",
      "209          NaN  9.16121  47.67236  POINT (9.16121 47.67236)  \n",
      "210          NaN  9.15322  47.67855  POINT (9.15322 47.67855)  \n",
      "211          NaN  9.15566  47.67777  POINT (9.15566 47.67777)  \n",
      "212          NaN  9.16881  47.67362  POINT (9.16881 47.67362)  \n",
      "213          NaN  9.17090  47.67438  POINT (9.17090 47.67438)  \n",
      "\n",
      "[5 rows x 26 columns]\n"
     ]
    }
   ],
   "source": [
    "gdf = gpd.GeoDataFrame(df, geometry=gpd.points_from_xy(df[\"lon_fix\"], df[\"lat_fix\"]))\n",
    "print(gdf.tail())"
   ]
  },
  {
   "cell_type": "code",
   "execution_count": null,
   "id": "61bdd03d-88c3-4c04-8c86-07f7f6bea3a5",
   "metadata": {},
   "outputs": [
    {
     "data": {
      "text/plain": [
       "<AxesSubplot: >"
      ]
     },
     "execution_count": 227,
     "metadata": {},
     "output_type": "execute_result"
    },
    {
     "data": {
      "image/png": "[encoded data removed]",
      "text/plain": [
       "<Figure size 500x333.333 with 1 Axes>"
      ]
     },
     "metadata": {},
     "output_type": "display_data"
    }
   ],
   "source": [
    "gdf.plot()"
   ]
  },
  {
   "cell_type": "code",
   "execution_count": 237,
   "id": "ae809e3e-1a4d-4ad4-8c0c-4419ed0a5009",
   "metadata": {},
   "outputs": [
    {
     "name": "stdout",
     "output_type": "stream",
     "text": [
      " so dass die Sicht häufig versperrt ist.\n",
      "0\n",
      "0\n",
      "0\n",
      " die trotz Tauwetter tagelang bleiben.\n",
      " die trotz Tauwetter tagelang bleiben.\n",
      "0\n",
      "0\n",
      "0\n"
     ]
    }
   ],
   "source": [
    "i = 0\n",
    "while i < len(gdf[\"region\"]):\n",
    "    if gdf[\"region\"][i] != \"Konstanz\":\n",
    "        print(gdf[\"region\"][i])\n",
    "        i+=1\n",
    "    else:\n",
    "        i+=1"
   ]
  },
  {
   "cell_type": "code",
   "execution_count": null,
   "id": "66f84bf9-4716-4586-8581-6f181c2ef433",
   "metadata": {},
   "outputs": [],
   "source": []
  },
  {
   "cell_type": "code",
   "execution_count": 24,
   "id": "27d47297-db5d-4a11-af3f-f2de9c07bf11",
   "metadata": {},
   "outputs": [],
   "source": [
    "Tasche = 0 \n",
    "Lenker = 0\n",
    "Jackentasche = 0\n",
    "Hand = 0\n",
    "Korb = 0\n",
    "Rucksack = 0\n",
    "Sonstiges = 0\n",
    "i = 0\n",
    "for i in range(0, len(df_ub[\"pLoc\"])-1):\n",
    "    if df_ub[\"pLoc\"][i] == 0:\n",
    "        Tasche += 1\n",
    "        i += 1\n",
    "    if df_ub[\"pLoc\"][i] == 1:\n",
    "        Lenker += 1\n",
    "        i += 1\n",
    "    if df_ub[\"pLoc\"][i] == 2:\n",
    "        Jackentasche += 1\n",
    "        i += 1 \n",
    "    if df_ub[\"pLoc\"][i] == 3:\n",
    "        Hand += 1\n",
    "        i += 1 \n",
    "    if df_ub[\"pLoc\"][i] == 4:\n",
    "        Korb += 1\n",
    "        i += 1\n",
    "    if df_ub[\"pLoc\"][i] == 5:\n",
    "        Rucksack += 1\n",
    "        i += 1\n",
    "    else:\n",
    "        Sonstiges += 1\n",
    "        i += 1"
   ]
  },
  {
   "cell_type": "code",
   "execution_count": 33,
   "id": "bd09dc67-25ce-4496-ae43-172bdb26dff6",
   "metadata": {},
   "outputs": [
    {
     "data": {
      "text/plain": [
       "([<matplotlib.axis.XTick at 0x7f1ece3245e0>,\n",
       "  <matplotlib.axis.XTick at 0x7f1ece3245b0>,\n",
       "  <matplotlib.axis.XTick at 0x7f1ece30fd30>,\n",
       "  <matplotlib.axis.XTick at 0x7f1ece354df0>,\n",
       "  <matplotlib.axis.XTick at 0x7f1ece3558a0>,\n",
       "  <matplotlib.axis.XTick at 0x7f1ece356350>,\n",
       "  <matplotlib.axis.XTick at 0x7f1ece356e00>],\n",
       " [Text(0, 0, 'Tasche'),\n",
       "  Text(1, 0, 'Lenker'),\n",
       "  Text(2, 0, 'Jackentasche'),\n",
       "  Text(3, 0, 'Hand'),\n",
       "  Text(4, 0, 'Korb'),\n",
       "  Text(5, 0, 'Rucksack'),\n",
       "  Text(6, 0, 'Sonstiges')])"
      ]
     },
     "execution_count": 33,
     "metadata": {},
     "output_type": "execute_result"
    },
    {
     "data": {
      "image/png": "[encoded data removed]",
      "text/plain": [
       "<Figure size 500x333.333 with 1 Axes>"
      ]
     },
     "metadata": {},
     "output_type": "display_data"
    }
   ],
   "source": [
    "cts_handy = np.array([Tasche, Lenker, Jackentasche, Hand, Korb, Rucksack, Sonstiges])\n",
    "test = np.array([0,1,2,3,4,5,6])\n",
    "labels = [\"Tasche\", \"Lenker\", \"Jackentasche\", \"Hand\", \"Korb\", \"Rucksack\", \"Sonstiges\"]\n",
    "f, ax = subplots(1,1)\n",
    "ax.bar(test,cts_handy)\n",
    "plt.xticks(test, labels, rotation=90)"
   ]
  },
  {
   "cell_type": "code",
   "execution_count": 215,
   "id": "3fb1f9aa-3dae-4a96-a6e4-2653424495ee",
   "metadata": {},
   "outputs": [
    {
     "data": {
      "text/plain": [
       "'\\ni1-i10 sind andere (Verkehrs-)Teilnehmer, die an dem Vorfall beteiligt waren. 1, wenn die entsprechende Art von Teilnehmer beteiligt war, sonst 0.\\ni1 = Bus\\ni2 = Radfahrer\\ni3 = Fußgänger\\ni4 = Lieferwagen\\ni5 = Lastwagen/LKW\\ni6 = Motorradfahrer\\ni7 = PKW\\ni8 = Taxi\\ni9 = Sonstiges\\ni10 = Elektro-Roller\\n\\nincident: Art des Vorfalls:\\n-5 = Dummy-Vorfall (wenn kein Vorfall eingestellt ist, wird dieser erstellt, um die Informationen zu bike, pLoc, childCheckBox und trailerCheckBox zu erhalten)\\n0 = Nichts (Standardwert)\\n1 =\\xa0Zu dichtes Überholen\\n2 = Jemand schert ein oder aus\\n3 = Beinahe Unfall mit Rechts- oder Linksabbieger\\n4 = Entgegenkommender Verkehrsteilnehmer\\n5 = Dicht auffahren (Drängler)\\n6 = Beinahe-Dooring (plötzlich öffnende Autotür)\\n7 = Ausweichen vor Hindernis (z.B. Hund)\\n8 = Sonstiges (bitte angeben)\\n\\nlat/lon: Breiten- und Längengrad (GPS-Standort)\\n\\nts: Zeitstempel (Unix-Zeit;\\xa0Anzahl der Millisekunden seit dem 1. Januar 1970, 00:00 Uhr UTC)\\xa0\\n\\nbike: Fahrradtyp:\\n0 = keine Angabe\\n1 = Stadt-/Trekkingrad\\n2 = Straßen-Rennrad\\n3 = E-Bike\\n4 = Liegefahrrad\\n5 = Lastenfahrrad\\n6 = Tandem-Fahrrad\\n7 = Mountainbike\\n8 = Sonstiges\\n\\nchildCheckBox: 0, wenn kein Kind auf dem Fahrrad transportiert wird, sonst 1.\\n\\ntrailerCheckBox: 0, wenn kein Kind am Fahrrad angehängt ist, sonst 1.\\n\\npLoc: Ort des Smartphones während der Fahrt:\\n0 = Tasche (Standardwert)\\n1 = Lenker\\n2 = Jackentasche\\n3 = Hand\\n4 = Korb/Tasche\\n5 = Rucksack/Tasche\\n6 = Sonstiges\\n'"
      ]
     },
     "execution_count": 215,
     "metadata": {},
     "output_type": "execute_result"
    }
   ],
   "source": [
    "'''\n",
    "i1-i10 sind andere (Verkehrs-)Teilnehmer, die an dem Vorfall beteiligt waren. 1, wenn die entsprechende Art von Teilnehmer beteiligt war, sonst 0.\n",
    "i1 = Bus\n",
    "i2 = Radfahrer\n",
    "i3 = Fußgänger\n",
    "i4 = Lieferwagen\n",
    "i5 = Lastwagen/LKW\n",
    "i6 = Motorradfahrer\n",
    "i7 = PKW\n",
    "i8 = Taxi\n",
    "i9 = Sonstiges\n",
    "i10 = Elektro-Roller\n",
    "\n",
    "incident: Art des Vorfalls:\n",
    "-5 = Dummy-Vorfall (wenn kein Vorfall eingestellt ist, wird dieser erstellt, um die Informationen zu bike, pLoc, childCheckBox und trailerCheckBox zu erhalten)\n",
    "0 = Nichts (Standardwert)\n",
    "1 = Zu dichtes Überholen\n",
    "2 = Jemand schert ein oder aus\n",
    "3 = Beinahe Unfall mit Rechts- oder Linksabbieger\n",
    "4 = Entgegenkommender Verkehrsteilnehmer\n",
    "5 = Dicht auffahren (Drängler)\n",
    "6 = Beinahe-Dooring (plötzlich öffnende Autotür)\n",
    "7 = Ausweichen vor Hindernis (z.B. Hund)\n",
    "8 = Sonstiges (bitte angeben)\n",
    "\n",
    "lat/lon: Breiten- und Längengrad (GPS-Standort)\n",
    "\n",
    "ts: Zeitstempel (Unix-Zeit; Anzahl der Millisekunden seit dem 1. Januar 1970, 00:00 Uhr UTC) \n",
    "\n",
    "bike: Fahrradtyp:\n",
    "0 = keine Angabe\n",
    "1 = Stadt-/Trekkingrad\n",
    "2 = Straßen-Rennrad\n",
    "3 = E-Bike\n",
    "4 = Liegefahrrad\n",
    "5 = Lastenfahrrad\n",
    "6 = Tandem-Fahrrad\n",
    "7 = Mountainbike\n",
    "8 = Sonstiges\n",
    "\n",
    "childCheckBox: 0, wenn kein Kind auf dem Fahrrad transportiert wird, sonst 1.\n",
    "\n",
    "trailerCheckBox: 0, wenn kein Kind am Fahrrad angehängt ist, sonst 1.\n",
    "\n",
    "pLoc: Ort des Smartphones während der Fahrt:\n",
    "0 = Tasche (Standardwert)\n",
    "1 = Lenker\n",
    "2 = Jackentasche\n",
    "3 = Hand\n",
    "4 = Korb/Tasche\n",
    "5 = Rucksack/Tasche\n",
    "6 = Sonstiges\n",
    "'''"
   ]
  },
  {
   "cell_type": "code",
   "execution_count": null,
   "id": "46a4234a-a0bd-4faf-97ab-64671aae330b",
   "metadata": {},
   "outputs": [],
   "source": []
  }
 ],
 "metadata": {
  "kernelspec": {
   "display_name": "Python 3 (ipykernel)",
   "language": "python",
   "name": "python3"
  },
  "language_info": {
   "codemirror_mode": {
    "name": "ipython",
    "version": 3
   },
   "file_extension": ".py",
   "mimetype": "text/x-python",
   "name": "python",
   "nbconvert_exporter": "python",
   "pygments_lexer": "ipython3",
   "version": "3.10.8"
  }
 },
 "nbformat": 4,
 "nbformat_minor": 5
}
